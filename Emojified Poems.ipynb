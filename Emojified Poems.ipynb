{
 "cells": [
  {
   "cell_type": "markdown",
   "metadata": {},
   "source": [
    "For my second assignment, I was especially drawn to the connection between writing and pictures. In modern day culture, especially among the younger generation, text messages are often constructed using emojis. A lot of the time, I communicate with my friends by only sending gifs or emojis to express my thoughts and feelings. I was curious whether or not I would be able to transform a piece of text so that it can be told using entirely emojis.\n",
    "\n",
    "I spent a lot of time choosing my text, and settled for William Shakespeare's \"Sonnet 18: Shall I Compare Thee to a Summer's Day?\" I chose this work because it is focused on expressing love for someone, which is easier to replicate using symbols, and it is not too long in length.\n",
    "\n",
    "First, I uploaded the sonnet as a txt file, and opened it."
   ]
  },
  {
   "cell_type": "code",
   "execution_count": 1,
   "metadata": {},
   "outputs": [],
   "source": [
    "import emoji"
   ]
  },
  {
   "cell_type": "code",
   "execution_count": 2,
   "metadata": {},
   "outputs": [],
   "source": [
    "poem = open(\"summer.txt\").read().split()"
   ]
  },
  {
   "cell_type": "code",
   "execution_count": 3,
   "metadata": {},
   "outputs": [
    {
     "name": "stdout",
     "output_type": "stream",
     "text": [
      "['Shall', 'I', 'compare', 'thee', 'to', 'a', 'summer’s', 'day?', 'Thou', 'art', 'more', 'lovely', 'and', 'more', 'temperate:', 'Rough', 'winds', 'do', 'shake', 'the', 'darling', 'buds', 'of', 'May,', 'And', 'summer’s', 'lease', 'hath', 'all', 'too', 'short', 'a', 'date;', 'Sometime', 'too', 'hot', 'the', 'eye', 'of', 'heaven', 'shines,', 'And', 'often', 'is', 'his', 'gold', 'complexion', \"dimm'd;\", 'And', 'every', 'fair', 'from', 'fair', 'sometime', 'declines,', 'By', 'chance', 'or', 'nature’s', 'changing', 'course', \"untrimm'd;\", 'But', 'thy', 'eternal', 'summer', 'shall', 'not', 'fade,', 'Nor', 'lose', 'possession', 'of', 'that', 'fair', 'thou', 'ow’st;', 'Nor', 'shall', 'death', 'brag', 'thou', 'wander’st', 'in', 'his', 'shade,', 'When', 'in', 'eternal', 'lines', 'to', 'time', 'thou', 'grow’st:', 'So', 'long', 'as', 'men', 'can', 'breathe', 'or', 'eyes', 'can', 'see,', 'So', 'long', 'lives', 'this,', 'and', 'this', 'gives', 'life', 'to', 'thee.']\n"
     ]
    }
   ],
   "source": [
    "print(poem)"
   ]
  },
  {
   "cell_type": "code",
   "execution_count": 4,
   "metadata": {},
   "outputs": [
    {
     "data": {
      "text/plain": [
       "list"
      ]
     },
     "execution_count": 4,
     "metadata": {},
     "output_type": "execute_result"
    }
   ],
   "source": [
    "type(poem)"
   ]
  },
  {
   "cell_type": "markdown",
   "metadata": {},
   "source": [
    "As expected, the poem was stored as a list, with each word in the original order it was imported in. Now, I wanted to create a dictionary that stores these words as keys with respective values."
   ]
  },
  {
   "cell_type": "code",
   "execution_count": 5,
   "metadata": {},
   "outputs": [],
   "source": [
    "poem_dictionary = {word:\"\" for word in poem}"
   ]
  },
  {
   "cell_type": "code",
   "execution_count": 6,
   "metadata": {},
   "outputs": [
    {
     "name": "stdout",
     "output_type": "stream",
     "text": [
      "{'Shall': '', 'I': '', 'compare': '', 'thee': '', 'to': '', 'a': '', 'summer’s': '', 'day?': '', 'Thou': '', 'art': '', 'more': '', 'lovely': '', 'and': '', 'temperate:': '', 'Rough': '', 'winds': '', 'do': '', 'shake': '', 'the': '', 'darling': '', 'buds': '', 'of': '', 'May,': '', 'And': '', 'lease': '', 'hath': '', 'all': '', 'too': '', 'short': '', 'date;': '', 'Sometime': '', 'hot': '', 'eye': '', 'heaven': '', 'shines,': '', 'often': '', 'is': '', 'his': '', 'gold': '', 'complexion': '', \"dimm'd;\": '', 'every': '', 'fair': '', 'from': '', 'sometime': '', 'declines,': '', 'By': '', 'chance': '', 'or': '', 'nature’s': '', 'changing': '', 'course': '', \"untrimm'd;\": '', 'But': '', 'thy': '', 'eternal': '', 'summer': '', 'shall': '', 'not': '', 'fade,': '', 'Nor': '', 'lose': '', 'possession': '', 'that': '', 'thou': '', 'ow’st;': '', 'death': '', 'brag': '', 'wander’st': '', 'in': '', 'shade,': '', 'When': '', 'lines': '', 'time': '', 'grow’st:': '', 'So': '', 'long': '', 'as': '', 'men': '', 'can': '', 'breathe': '', 'eyes': '', 'see,': '', 'lives': '', 'this,': '', 'this': '', 'gives': '', 'life': '', 'thee.': ''}\n"
     ]
    }
   ],
   "source": [
    "print(poem_dictionary)"
   ]
  },
  {
   "cell_type": "markdown",
   "metadata": {},
   "source": [
    "So now, I have a dictionary that possesses the keys (the words of the poems) and the values (an empty space). I also noticed that the dictionary has taken care of repeat words, which was exactly what I wanted, since I did not want repeat emojis; I wanted to create a simple encapsulation of the overall feeling using emojis. Now, to test out the emoji module, I will print out a few emojis."
   ]
  },
  {
   "cell_type": "code",
   "execution_count": 7,
   "metadata": {},
   "outputs": [
    {
     "name": "stdout",
     "output_type": "stream",
     "text": [
      "❤\n"
     ]
    }
   ],
   "source": [
    "print(emoji.emojize(\":red_heart:\"))"
   ]
  },
  {
   "cell_type": "code",
   "execution_count": 8,
   "metadata": {},
   "outputs": [
    {
     "name": "stdout",
     "output_type": "stream",
     "text": [
      "😜\n"
     ]
    }
   ],
   "source": [
    "print(emoji.emojize(\":winking_face_with_tongue:\"))"
   ]
  },
  {
   "cell_type": "markdown",
   "metadata": {},
   "source": [
    "Not exactly sure why the heart was tiny and darkened, but at least the emoji worked. Now, it is time to iterate through the dictionary and assign the necessary emojis to the main words of the sonnet."
   ]
  },
  {
   "cell_type": "code",
   "execution_count": 51,
   "metadata": {},
   "outputs": [],
   "source": [
    "def poemEmojify():\n",
    "    for key in poem_dictionary:\n",
    "        if key == \"I\":\n",
    "            poem_dictionary[\"I\"] = emoji.emojize(\"🙋‍\")\n",
    "        if key == \"compare\":\n",
    "            poem_dictionary[\"compare\"] = emoji.emojize(\"⚖\")\n",
    "        if key == \"thee\":\n",
    "            poem_dictionary[\"thee\"] = emoji.emojize(\"👇\")\n",
    "        if key == \"day?\":\n",
    "            poem_dictionary[\"day?\"] = emoji.emojize(\"⛅,  \")\n",
    "        if key == \"Thou\":\n",
    "            poem_dictionary[\"Thou\"] = emoji.emojize(\"👇\")\n",
    "        if key == \"lovely\":\n",
    "            poem_dictionary[\"lovely\"] = emoji.emojize(\"✨,  \")\n",
    "        if key == \"winds\":\n",
    "            poem_dictionary[\"winds\"] = emoji.emojize(\"🌬\")\n",
    "        if key == \"buds\":\n",
    "            poem_dictionary[\"buds\"] = emoji.emojize(\"🌱,  \")\n",
    "        if key == \"short\":\n",
    "            poem_dictionary[\"short\"] = emoji.emojize(\"⌛\")\n",
    "        if key == \"date;\":\n",
    "            poem_dictionary[\"date;\"] = emoji.emojize(\"📆,  \")\n",
    "        if key == \"hot\":\n",
    "            poem_dictionary[\"hot\"] = emoji.emojize(\"🥵\")\n",
    "        if key == \"eye\":\n",
    "            poem_dictionary[\"eye\"] = emoji.emojize(\"👁\")\n",
    "        if key == \"heaven\":\n",
    "            poem_dictionary[\"heaven\"] = emoji.emojize(\"🌅,  \")\n",
    "        if key == \"his\":\n",
    "            poem_dictionary[\"his\"] = emoji.emojize(\"🙍‍\")\n",
    "        if key == \"complexion\":\n",
    "            poem_dictionary[\"complexion\"] = emoji.emojize(\"➡\")\n",
    "        if key == \"dimm'd;\":\n",
    "            poem_dictionary[\"dimm'd;\"] = emoji.emojize(\"👨‍,  \")\n",
    "        if key == \"fair\":\n",
    "            poem_dictionary[\"fair\"] = emoji.emojize(\"👩\")\n",
    "        if key == \"from\":\n",
    "            poem_dictionary[\"from\"] = emoji.emojize(\"➡\")\n",
    "        if key == \"declines,\":\n",
    "            poem_dictionary[\"declines,\"] = emoji.emojize(\"👵,  \")\n",
    "        if key == \"thy\":\n",
    "            poem_dictionary[\"thy\"] = emoji.emojize(\"👇\")\n",
    "        if key == \"summer\":\n",
    "            poem_dictionary[\"summer\"] = emoji.emojize(\"✨\")\n",
    "        if key == \"fade,\":\n",
    "            poem_dictionary[\"fade,\"] = emoji.emojize(\"📈,  \")\n",
    "        if key == \"lose\":\n",
    "            poem_dictionary[\"lose\"] = emoji.emojize(\"♾\")\n",
    "        if key == \"possession\":\n",
    "            poem_dictionary[\"possession\"] = emoji.emojize(\"⏳\")\n",
    "        if key == \"thou\":\n",
    "            poem_dictionary[\"thou\"] = emoji.emojize(\"👇,  \")\n",
    "        if key == \"death\":\n",
    "            poem_dictionary[\"death\"] = emoji.emojize(\"💀\")\n",
    "        if key == \"brag\":\n",
    "            poem_dictionary[\"brag\"] = emoji.emojize(\"🚫,\")\n",
    "        "
   ]
  },
  {
   "cell_type": "markdown",
   "metadata": {},
   "source": [
    "After assigning the values to the keys, I will now call the function."
   ]
  },
  {
   "cell_type": "code",
   "execution_count": 52,
   "metadata": {},
   "outputs": [],
   "source": [
    "poemEmojify()"
   ]
  },
  {
   "cell_type": "markdown",
   "metadata": {},
   "source": [
    "Time to print the newly modified dictionary."
   ]
  },
  {
   "cell_type": "code",
   "execution_count": 53,
   "metadata": {},
   "outputs": [
    {
     "name": "stdout",
     "output_type": "stream",
     "text": [
      "{'Shall': '', 'I': '🙋\\u200d', 'compare': '⚖', 'thee': '👇', 'to': '', 'a': '', 'summer’s': '', 'day?': '⛅,  ', 'Thou': '👇', 'art': '', 'more': '', 'lovely': '✨,  ', 'and': '', 'temperate:': '', 'Rough': '', 'winds': '🌬', 'do': '', 'shake': '', 'the': '', 'darling': '', 'buds': '🌱,  ', 'of': '', 'May,': '', 'And': '', 'lease': '', 'hath': '', 'all': '', 'too': '', 'short': '⌛', 'date;': '📆,  ', 'Sometime': '', 'hot': '🥵', 'eye': '👁', 'heaven': '🌅,  ', 'shines,': '', 'often': '', 'is': '', 'his': '🙍\\u200d', 'gold': '', 'complexion': '➡', \"dimm'd;\": '👨\\u200d,  ', 'every': '', 'fair': '👩', 'from': '➡', 'sometime': '', 'declines,': '👵,  ', 'By': '', 'chance': '', 'or': '', 'nature’s': '', 'changing': '', 'course': '', \"untrimm'd;\": '', 'But': '', 'thy': '👇', 'eternal': '', 'summer': '✨', 'shall': '', 'not': '', 'fade,': '📈,  ', 'Nor': '', 'lose': '♾', 'possession': '⏳', 'that': '', 'thou': '👇,  ', 'ow’st;': '', 'death': '💀', 'brag': '🚫,', 'wander’st': '', 'in': '', 'shade,': '', 'When': '', 'lines': '', 'time': '', 'grow’st:': '', 'So': '', 'long': '', 'as': '', 'men': '', 'can': '', 'breathe': '', 'eyes': '', 'see,': '', 'lives': '', 'this,': '', 'this': '', 'gives': '', 'life': '', 'thee.': ''}\n"
     ]
    }
   ],
   "source": [
    "print(poem_dictionary)"
   ]
  },
  {
   "cell_type": "code",
   "execution_count": 54,
   "metadata": {},
   "outputs": [
    {
     "name": "stdout",
     "output_type": "stream",
     "text": [
      "\n",
      "🙋‍\n",
      "⚖\n",
      "👇\n",
      "\n",
      "\n",
      "\n",
      "⛅,  \n",
      "👇\n",
      "\n",
      "\n",
      "✨,  \n",
      "\n",
      "\n",
      "\n",
      "🌬\n",
      "\n",
      "\n",
      "\n",
      "\n",
      "🌱,  \n",
      "\n",
      "\n",
      "\n",
      "\n",
      "\n",
      "\n",
      "\n",
      "⌛\n",
      "📆,  \n",
      "\n",
      "🥵\n",
      "👁\n",
      "🌅,  \n",
      "\n",
      "\n",
      "\n",
      "🙍‍\n",
      "\n",
      "➡\n",
      "👨‍,  \n",
      "\n",
      "👩\n",
      "➡\n",
      "\n",
      "👵,  \n",
      "\n",
      "\n",
      "\n",
      "\n",
      "\n",
      "\n",
      "\n",
      "\n",
      "👇\n",
      "\n",
      "✨\n",
      "\n",
      "\n",
      "📈,  \n",
      "\n",
      "♾\n",
      "⏳\n",
      "\n",
      "👇,  \n",
      "\n",
      "💀\n",
      "🚫,\n",
      "\n",
      "\n",
      "\n",
      "\n",
      "\n",
      "\n",
      "\n",
      "\n",
      "\n",
      "\n",
      "\n",
      "\n",
      "\n",
      "\n",
      "\n",
      "\n",
      "\n",
      "\n",
      "\n",
      "\n",
      "\n"
     ]
    }
   ],
   "source": [
    "for item in poem_dictionary.values():\n",
    "    print(item)"
   ]
  },
  {
   "cell_type": "markdown",
   "metadata": {},
   "source": [
    "Everything looks horribly formatted, so I must arrange the emojis in a legible sequence."
   ]
  },
  {
   "cell_type": "code",
   "execution_count": 55,
   "metadata": {
    "scrolled": true
   },
   "outputs": [
    {
     "name": "stdout",
     "output_type": "stream",
     "text": [
      "🙋‍⚖👇⛅,  👇✨,  🌬🌱,  ⌛📆,  🥵👁🌅,  🙍‍➡👨‍,  👩➡👵,  👇✨📈,  ♾⏳👇,  💀🚫,"
     ]
    }
   ],
   "source": [
    "for item in poem_dictionary.values():\n",
    "    print(item, end = '')"
   ]
  },
  {
   "cell_type": "markdown",
   "metadata": {},
   "source": [
    "Looking back on it, I'm not too sure that I picked a good source text. Sonnet 18 was very abstract, and as a result, the emojis presented seem a bit hard to decipher. Nevertheless, it was a bit fun attempting to build a story from the emojis, and I wonder what the output would be like if I chose a simpler source text. \n",
    "\n",
    "Here is a comparison of Sonnet 18 and the Emoji Version below:"
   ]
  },
  {
   "cell_type": "markdown",
   "metadata": {},
   "source": [
    "Shall I compare thee to a summer’s day?\n",
    "Thou art more lovely and more temperate:\n",
    "Rough winds do shake the darling buds of May,\n",
    "And summer’s lease hath all too short a date;\n",
    "Sometime too hot the eye of heaven shines,\n",
    "And often is his gold complexion dimm'd;\n",
    "And every fair from fair sometime declines,\n",
    "By chance or nature’s changing course untrimm'd;\n",
    "But thy eternal summer shall not fade,\n",
    "Nor lose possession of that fair thou ow’st;\n",
    "Nor shall death brag thou wander’st in his shade,\n",
    "When in eternal lines to time thou grow’st:\n",
    "   So long as men can breathe or eyes can see,\n",
    "   So long lives this, and this gives life to thee.\n",
    "   \n",
    "   \n",
    "🙋‍⚖👇⛅,  👇✨,  🌬🌱,  ⌛📆,  🥵👁🌅,  🙍‍➡👨‍,  👩➡👵,  👇✨📈,  ♾⏳👇,  💀🚫,"
   ]
  },
  {
   "cell_type": "markdown",
   "metadata": {},
   "source": [
    "Here is a second text generation of a more visually empowering poem, \"So Tired Blues\" by Langston Hughes."
   ]
  },
  {
   "cell_type": "code",
   "execution_count": 56,
   "metadata": {},
   "outputs": [],
   "source": [
    "poem2 = open(\"blues.txt\").read().split()"
   ]
  },
  {
   "cell_type": "code",
   "execution_count": 57,
   "metadata": {},
   "outputs": [
    {
     "name": "stdout",
     "output_type": "stream",
     "text": [
      "['With', 'the', 'sun', 'in', 'my', 'hand', 'Gonna', 'throw', 'the', 'sun', 'Way', 'across', 'the', 'land', 'Cause', 'I’m', 'tired', 'Tired', 'as', 'I', 'can', 'be']\n"
     ]
    }
   ],
   "source": [
    "print(poem2)"
   ]
  },
  {
   "cell_type": "code",
   "execution_count": 58,
   "metadata": {},
   "outputs": [],
   "source": [
    "poem_dictionary2 = {word:\"\" for word in poem2}"
   ]
  },
  {
   "cell_type": "code",
   "execution_count": 59,
   "metadata": {},
   "outputs": [
    {
     "name": "stdout",
     "output_type": "stream",
     "text": [
      "{'With': '', 'the': '', 'sun': '', 'in': '', 'my': '', 'hand': '', 'Gonna': '', 'throw': '', 'Way': '', 'across': '', 'land': '', 'Cause': '', 'I’m': '', 'tired': '', 'Tired': '', 'as': '', 'I': '', 'can': '', 'be': ''}\n"
     ]
    }
   ],
   "source": [
    "print(poem_dictionary2)"
   ]
  },
  {
   "cell_type": "code",
   "execution_count": 68,
   "metadata": {},
   "outputs": [],
   "source": [
    "def poemEmojify2():\n",
    "    for key in poem_dictionary2:\n",
    "        if key == \"sun\":\n",
    "            poem_dictionary2[\"sun\"] = emoji.emojize(\"🔆\")\n",
    "        if key == \"hand\":\n",
    "            poem_dictionary2[\"hand\"] = emoji.emojize(\"🤲,  \")\n",
    "        if key == \"throw\":\n",
    "            poem_dictionary2[\"throw\"] = emoji.emojize(\"🤽‍\")\n",
    "        if key == \"Way\":\n",
    "            poem_dictionary2[\"Way\"] = emoji.emojize(\"↗\")\n",
    "        if key == \"land\":\n",
    "            poem_dictionary2[\"land\"] = emoji.emojize(\"🌍.  \")\n",
    "        if key == \"I'm\":\n",
    "            poem_dictionary2[\"I'm\"] = emoji.emojize(\"ℹ\")\n",
    "        if key == \"tired\":\n",
    "            poem_dictionary2[\"tired\"] = emoji.emojize(\"😖\")\n",
    "        if key == \"Tired\":\n",
    "            poem_dictionary2[\"Tired\"] = emoji.emojize(\"😞\")"
   ]
  },
  {
   "cell_type": "code",
   "execution_count": 69,
   "metadata": {},
   "outputs": [],
   "source": [
    "poemEmojify2()"
   ]
  },
  {
   "cell_type": "code",
   "execution_count": 70,
   "metadata": {},
   "outputs": [
    {
     "name": "stdout",
     "output_type": "stream",
     "text": [
      "{'With': '', 'the': '', 'sun': '🔆', 'in': '', 'my': '', 'hand': '🤲,  ', 'Gonna': '', 'throw': '🤽\\u200d', 'Way': '↗', 'across': '', 'land': '🌍.  ', 'Cause': '', 'I’m': '', 'tired': '😖', 'Tired': '😞', 'as': '', 'I': '', 'can': '', 'be': ''}\n"
     ]
    }
   ],
   "source": [
    "print(poem_dictionary2)"
   ]
  },
  {
   "cell_type": "code",
   "execution_count": 71,
   "metadata": {},
   "outputs": [
    {
     "name": "stdout",
     "output_type": "stream",
     "text": [
      "🔆🤲,  🤽‍↗🌍.  😖😞"
     ]
    }
   ],
   "source": [
    "for item in poem_dictionary2.values():\n",
    "    print(item, end = '')"
   ]
  },
  {
   "cell_type": "markdown",
   "metadata": {},
   "source": [
    "Side by side comparison of \"So Tired Blues\" and the Emojified Version:"
   ]
  },
  {
   "cell_type": "markdown",
   "metadata": {},
   "source": [
    "With the sun in my hand\n",
    "Gonna throw the sun\n",
    "Way across the land-\n",
    "Cause I’m tired,\n",
    "Tired as I can be\n",
    "\n",
    "🔆🤲,  🤽‍↗🌍.  😖😞"
   ]
  }
 ],
 "metadata": {
  "kernelspec": {
   "display_name": "Python 3",
   "language": "python",
   "name": "python3"
  },
  "language_info": {
   "codemirror_mode": {
    "name": "ipython",
    "version": 3
   },
   "file_extension": ".py",
   "mimetype": "text/x-python",
   "name": "python",
   "nbconvert_exporter": "python",
   "pygments_lexer": "ipython3",
   "version": "3.8.3"
  }
 },
 "nbformat": 4,
 "nbformat_minor": 4
}
